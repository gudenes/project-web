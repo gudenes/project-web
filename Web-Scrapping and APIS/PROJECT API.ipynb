{
 "cells": [
  {
   "cell_type": "code",
   "execution_count": 1,
   "metadata": {
    "ExecuteTime": {
     "end_time": "2019-07-25T20:23:15.115239Z",
     "start_time": "2019-07-25T20:23:14.805510Z"
    }
   },
   "outputs": [],
   "source": [
    "import json\n",
    "import pandas as pd\n",
    "import requests\n",
    "from pandas.io.json import json_normalize\n",
    "pd.set_option('display.max_rows', 500)\n",
    "pd.set_option('display.max_columns', 500)\n",
    "pd.set_option('display.max_colwidth',1000)"
   ]
  },
  {
   "cell_type": "code",
   "execution_count": 73,
   "metadata": {
    "ExecuteTime": {
     "end_time": "2019-07-25T21:06:43.681599Z",
     "start_time": "2019-07-25T21:06:43.660296Z"
    }
   },
   "outputs": [
    {
     "data": {
      "text/html": [
       "<div>\n",
       "<style scoped>\n",
       "    .dataframe tbody tr th:only-of-type {\n",
       "        vertical-align: middle;\n",
       "    }\n",
       "\n",
       "    .dataframe tbody tr th {\n",
       "        vertical-align: top;\n",
       "    }\n",
       "\n",
       "    .dataframe thead th {\n",
       "        text-align: right;\n",
       "    }\n",
       "</style>\n",
       "<table border=\"1\" class=\"dataframe\">\n",
       "  <thead>\n",
       "    <tr style=\"text-align: right;\">\n",
       "      <th></th>\n",
       "      <th>Quote</th>\n",
       "      <th>Links</th>\n",
       "      <th>Date</th>\n",
       "    </tr>\n",
       "  </thead>\n",
       "  <tbody>\n",
       "  </tbody>\n",
       "</table>\n",
       "</div>"
      ],
      "text/plain": [
       "Empty DataFrame\n",
       "Columns: [Quote, Links, Date]\n",
       "Index: []"
      ]
     },
     "execution_count": 73,
     "metadata": {},
     "output_type": "execute_result"
    }
   ],
   "source": [
    "url='https://api.tronalddump.io/random/quote'\n",
    "colnames = [\"Quote\",\"Links\",\"Date\"]\n",
    "df = pd.DataFrame(columns=colnames)\n",
    "df"
   ]
  },
  {
   "cell_type": "markdown",
   "metadata": {},
   "source": [
    "## Looping to get 1k phrases"
   ]
  },
  {
   "cell_type": "code",
   "execution_count": 74,
   "metadata": {
    "ExecuteTime": {
     "end_time": "2019-07-25T21:13:44.228025Z",
     "start_time": "2019-07-25T21:06:46.117109Z"
    }
   },
   "outputs": [],
   "source": [
    "for i in range(1000):\n",
    "    response = requests.get(url)\n",
    "    results= response.json()\n",
    "    if i not in df:\n",
    "        df.loc[i,\"Quote\"] = results[\"value\"]\n",
    "        df.loc[i,\"Links\"] = results[\"_embedded\"][\"source\"][0][\"url\"]\n",
    "        df.loc[i,\"Date\"] = results[\"appeared_at\"]"
   ]
  },
  {
   "cell_type": "markdown",
   "metadata": {
    "ExecuteTime": {
     "end_time": "2019-07-25T20:55:24.009974Z",
     "start_time": "2019-07-25T20:55:24.002780Z"
    }
   },
   "source": [
    "## Data Manipulation and Cleaning"
   ]
  },
  {
   "cell_type": "code",
   "execution_count": 75,
   "metadata": {
    "ExecuteTime": {
     "end_time": "2019-07-25T21:18:32.260589Z",
     "start_time": "2019-07-25T21:18:32.244076Z"
    }
   },
   "outputs": [
    {
     "data": {
      "text/html": [
       "<div>\n",
       "<style scoped>\n",
       "    .dataframe tbody tr th:only-of-type {\n",
       "        vertical-align: middle;\n",
       "    }\n",
       "\n",
       "    .dataframe tbody tr th {\n",
       "        vertical-align: top;\n",
       "    }\n",
       "\n",
       "    .dataframe thead th {\n",
       "        text-align: right;\n",
       "    }\n",
       "</style>\n",
       "<table border=\"1\" class=\"dataframe\">\n",
       "  <thead>\n",
       "    <tr style=\"text-align: right;\">\n",
       "      <th></th>\n",
       "      <th>Quote</th>\n",
       "      <th>Links</th>\n",
       "      <th>Date</th>\n",
       "    </tr>\n",
       "  </thead>\n",
       "  <tbody>\n",
       "    <tr>\n",
       "      <th>0</th>\n",
       "      <td>CLINTON CORRUPTION AND HER SABOTAGE OF THE INNER CITIES. \\nFull speech transcript: https://t.co/npswT6lbg3</td>\n",
       "      <td>https://twitter.com/realDonaldTrump/status/769002724218118144</td>\n",
       "      <td>2016-08-26T02:45:11</td>\n",
       "    </tr>\n",
       "    <tr>\n",
       "      <th>1</th>\n",
       "      <td>Hillary Clinton is using race-baiting to try to get African-American voters- but they know she is all talk and NO ACTION!</td>\n",
       "      <td>https://twitter.com/realDonaldTrump/status/768912241349517312</td>\n",
       "      <td>2016-08-25T20:45:38</td>\n",
       "    </tr>\n",
       "    <tr>\n",
       "      <th>2</th>\n",
       "      <td>Hillary Clinton has bad judgment and is unfit to serve as President.\\nhttps://t.co/3EzG620fpT</td>\n",
       "      <td>https://twitter.com/realDonaldTrump/status/761549461893984256</td>\n",
       "      <td>2016-08-05T13:08:35</td>\n",
       "    </tr>\n",
       "    <tr>\n",
       "      <th>3</th>\n",
       "      <td>Lying #Ted Cruz just (on election day) came out with a sneak and sleazy Robocall. He holds up the Bible but in fact is a true lowlife pol!</td>\n",
       "      <td>https://twitter.com/realDonaldTrump/status/701043432354095108</td>\n",
       "      <td>2016-02-20T13:59:13</td>\n",
       "    </tr>\n",
       "    <tr>\n",
       "      <th>4</th>\n",
       "      <td>After spending $89 million, Jeb Bush is at the bottom of the barrel in polls. He is ashamed to use the name \"Bush\" in ads. Low energy guy!</td>\n",
       "      <td>https://twitter.com/realDonaldTrump/status/690560125916975104</td>\n",
       "      <td>2016-01-22T15:42:18</td>\n",
       "    </tr>\n",
       "  </tbody>\n",
       "</table>\n",
       "</div>"
      ],
      "text/plain": [
       "                                                                                                                                        Quote  \\\n",
       "0                                  CLINTON CORRUPTION AND HER SABOTAGE OF THE INNER CITIES. \\nFull speech transcript: https://t.co/npswT6lbg3   \n",
       "1                   Hillary Clinton is using race-baiting to try to get African-American voters- but they know she is all talk and NO ACTION!   \n",
       "2                                               Hillary Clinton has bad judgment and is unfit to serve as President.\\nhttps://t.co/3EzG620fpT   \n",
       "3  Lying #Ted Cruz just (on election day) came out with a sneak and sleazy Robocall. He holds up the Bible but in fact is a true lowlife pol!   \n",
       "4  After spending $89 million, Jeb Bush is at the bottom of the barrel in polls. He is ashamed to use the name \"Bush\" in ads. Low energy guy!   \n",
       "\n",
       "                                                           Links  \\\n",
       "0  https://twitter.com/realDonaldTrump/status/769002724218118144   \n",
       "1  https://twitter.com/realDonaldTrump/status/768912241349517312   \n",
       "2  https://twitter.com/realDonaldTrump/status/761549461893984256   \n",
       "3  https://twitter.com/realDonaldTrump/status/701043432354095108   \n",
       "4  https://twitter.com/realDonaldTrump/status/690560125916975104   \n",
       "\n",
       "                  Date  \n",
       "0  2016-08-26T02:45:11  \n",
       "1  2016-08-25T20:45:38  \n",
       "2  2016-08-05T13:08:35  \n",
       "3  2016-02-20T13:59:13  \n",
       "4  2016-01-22T15:42:18  "
      ]
     },
     "execution_count": 75,
     "metadata": {},
     "output_type": "execute_result"
    }
   ],
   "source": [
    "df.head()"
   ]
  },
  {
   "cell_type": "code",
   "execution_count": 76,
   "metadata": {
    "ExecuteTime": {
     "end_time": "2019-07-25T21:18:36.668190Z",
     "start_time": "2019-07-25T21:18:36.661860Z"
    }
   },
   "outputs": [],
   "source": [
    "df[\"Date\"] = df[\"Date\"].astype(\"datetime64[ns]\")"
   ]
  },
  {
   "cell_type": "code",
   "execution_count": 78,
   "metadata": {
    "ExecuteTime": {
     "end_time": "2019-07-25T21:18:52.105838Z",
     "start_time": "2019-07-25T21:18:52.089253Z"
    }
   },
   "outputs": [
    {
     "name": "stdout",
     "output_type": "stream",
     "text": [
      "<class 'pandas.core.frame.DataFrame'>\n",
      "Int64Index: 1000 entries, 0 to 999\n",
      "Data columns (total 3 columns):\n",
      "Quote    1000 non-null object\n",
      "Links    1000 non-null object\n",
      "Date     1000 non-null datetime64[ns]\n",
      "dtypes: datetime64[ns](1), object(2)\n",
      "memory usage: 71.2+ KB\n"
     ]
    }
   ],
   "source": [
    "df.info()"
   ]
  },
  {
   "cell_type": "code",
   "execution_count": 97,
   "metadata": {
    "ExecuteTime": {
     "end_time": "2019-07-25T21:29:46.048895Z",
     "start_time": "2019-07-25T21:29:46.012190Z"
    }
   },
   "outputs": [
    {
     "data": {
      "text/plain": [
       "Date\n",
       "April         32\n",
       "March         52\n",
       "December      63\n",
       "November      63\n",
       "September     72\n",
       "January       74\n",
       "June          76\n",
       "August        77\n",
       "February      84\n",
       "May           94\n",
       "October      119\n",
       "July         194\n",
       "Name: Quote, dtype: int64"
      ]
     },
     "execution_count": 97,
     "metadata": {},
     "output_type": "execute_result"
    }
   ],
   "source": [
    "df.groupby(df['Date'].dt.strftime('%B'))['Quote'].count().sort_values()"
   ]
  },
  {
   "cell_type": "markdown",
   "metadata": {},
   "source": [
    "## Saving into a CSV file"
   ]
  },
  {
   "cell_type": "code",
   "execution_count": 98,
   "metadata": {
    "ExecuteTime": {
     "end_time": "2019-07-25T21:35:40.909780Z",
     "start_time": "2019-07-25T21:35:40.878798Z"
    }
   },
   "outputs": [],
   "source": [
    "df.to_csv(\"Dummie Phrases from Trump\")"
   ]
  }
 ],
 "metadata": {
  "kernelspec": {
   "display_name": "Python 3",
   "language": "python",
   "name": "python3"
  },
  "language_info": {
   "codemirror_mode": {
    "name": "ipython",
    "version": 3
   },
   "file_extension": ".py",
   "mimetype": "text/x-python",
   "name": "python",
   "nbconvert_exporter": "python",
   "pygments_lexer": "ipython3",
   "version": "3.7.3"
  },
  "toc": {
   "base_numbering": 1,
   "nav_menu": {},
   "number_sections": true,
   "sideBar": true,
   "skip_h1_title": false,
   "title_cell": "Table of Contents",
   "title_sidebar": "Contents",
   "toc_cell": false,
   "toc_position": {},
   "toc_section_display": true,
   "toc_window_display": false
  },
  "varInspector": {
   "cols": {
    "lenName": 16,
    "lenType": 16,
    "lenVar": 40
   },
   "kernels_config": {
    "python": {
     "delete_cmd_postfix": "",
     "delete_cmd_prefix": "del ",
     "library": "var_list.py",
     "varRefreshCmd": "print(var_dic_list())"
    },
    "r": {
     "delete_cmd_postfix": ") ",
     "delete_cmd_prefix": "rm(",
     "library": "var_list.r",
     "varRefreshCmd": "cat(var_dic_list()) "
    }
   },
   "types_to_exclude": [
    "module",
    "function",
    "builtin_function_or_method",
    "instance",
    "_Feature"
   ],
   "window_display": false
  }
 },
 "nbformat": 4,
 "nbformat_minor": 2
}
